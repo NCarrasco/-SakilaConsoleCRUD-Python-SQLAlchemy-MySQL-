{
  "cells": [
    {
      "cell_type": "markdown",
      "metadata": {
        "id": "view-in-github",
        "colab_type": "text"
      },
      "source": [
        "<a href=\"https://colab.research.google.com/github/NCarrasco/-SakilaConsoleCRUD-Python-SQLAlchemy-MySQL-/blob/main/Ensayo_experimental_con_m%C3%A9tricas_descriptivas%2C_inferenciales_y_ML.ipynb\" target=\"_parent\"><img src=\"https://colab.research.google.com/assets/colab-badge.svg\" alt=\"Open In Colab\"/></a>"
      ]
    },
    {
      "cell_type": "markdown",
      "id": "7d3613f8",
      "metadata": {
        "id": "7d3613f8"
      },
      "source": [
        "Task-01-DataSoure-DA.xlsx# Ciencia de Datos I – Ensayo Experimental\n",
        "\n",
        "> **Fecha de entrega:** 16/06/2025  \n",
        "> **Estudiante:** Norman Carrasco\n",
        "\n",
        "---\n",
        "\n",
        "```python\n",
        "Procece el dataset Task-01-DataSoure-DA.xlsx, con python. las columnas son: CourseCode,Programa,CourseLabel,SujetoID,Genero,CalifFinal,Status,Satisfacion,Nivel Ingresos,Zona Geo,Trabaja,Edad,Estado civil,Region,Imagen Marca,Complejidad,AlfaCalif,Desempeño,Medelo educativo,scalagpa\n",
        "Saque la estadisticas de frecuencia y descriptiva.\n",
        "Entonces responda los siguiente:\n",
        "\n",
        "# Nota: revisar, antes de responder, que todas los términos del párrafo son afirmativos.\n",
        "# A partir de los resultados de las variables categóricas/ordinales, una interpretación correcta es:\n",
        "\n",
        "1. El 58.04% de los participantes, en los distintos cursos, tiene pareja y solo el 21.1 esta casado formalmente. Otros hallazgos indican que un 54.9% pudo aprobar los cursos y que el 18.9% está desempleado.\n",
        "2. El 22.4% de los participantes, en los distintos cursos, no tiene pareja y el 42.0 tiene pareja. Otros hallazgos indican que más 52% está por debajo de los 40 años y 30% aprobó con notas sobresalientes.\n",
        "3. El 81.1% de los participantes, en los distintos cursos, es de género femenino y solo el 20.3% de las mismas está casada formalmente. Otros hallazgos indican que un 18% de las féminas aprobó con notas sobresalientes (A+).\n",
        "4. El 58.04% de los participantes en los distintos cursos no tiene pareja y solo el 21.1 está casado formalmente. Otros hallazgos indican que un 45.1% no pudo aprobar o completar los cursos y que el 81.1% es empleado.\n",
        "```\n"
      ]
    },
    {
      "cell_type": "markdown",
      "id": "bdc32eb0",
      "metadata": {
        "id": "bdc32eb0"
      },
      "source": [
        "## 1. Carga del dataset y librerías"
      ]
    },
    {
      "cell_type": "code",
      "source": [
        "from google.colab import drive\n",
        "drive.mount('/content/drive')"
      ],
      "metadata": {
        "colab": {
          "base_uri": "https://localhost:8080/"
        },
        "id": "wTpfY7-ouO2x",
        "outputId": "f1fb6080-d2d4-4552-b3e8-d2b25e9ff2c4"
      },
      "id": "wTpfY7-ouO2x",
      "execution_count": 1,
      "outputs": [
        {
          "output_type": "stream",
          "name": "stdout",
          "text": [
            "Mounted at /content/drive\n"
          ]
        }
      ]
    },
    {
      "cell_type": "code",
      "id": "3ea278dd",
      "metadata": {
        "jupyter": {
          "is_executing": true
        },
        "id": "3ea278dd"
      },
      "source": [
        "import pandas as pd\n",
        "\n",
        "df = pd.read_excel(\"Task-01-DataSoure-DA.xlsx\")\n",
        "\n",
        "# Limpieza general\n",
        "df.drop(columns=['Column1'], errors='ignore', inplace=True)\n",
        "df.dropna(how='all', inplace=True)\n",
        "\n",
        "# Mapear variables categóricas\n",
        "df['Genero'] = df['Genero'].replace({1: 'Masculino', 2: 'Femenino'})\n",
        "df['Estado civil'] = df['Estado civil'].replace({\n",
        "    1: 'Soltero/a', 2: 'Casado/a', 3: 'Amancebado',\n",
        "    4: 'Divorciado/a', 5: 'Viudo/a'\n",
        "})\n",
        "df['Trabaja'] = df['Trabaja'].replace({0: 'No', 1: 'Sí'})\n"
      ],
      "outputs": [],
      "execution_count": 2
    },
    {
      "cell_type": "markdown",
      "id": "7ce7a66b",
      "metadata": {
        "id": "7ce7a66b"
      },
      "source": [
        "## 2. Estadísticas de frecuencia y distribución por variable"
      ]
    },
    {
      "cell_type": "code",
      "execution_count": 6,
      "id": "bb143390",
      "metadata": {
        "colab": {
          "base_uri": "https://localhost:8080/"
        },
        "id": "bb143390",
        "outputId": "dea47549-daa2-49d3-9ef0-7b6ef06756ec"
      },
      "outputs": [
        {
          "output_type": "stream",
          "name": "stdout",
          "text": [
            "Frecuencia para: Genero\n",
            "Genero\n",
            "Masculino    258\n",
            "Femenino      59\n",
            "Name: count, dtype: int64\n",
            "Porcentaje:\n",
            "Genero\n",
            "Masculino    81.388013\n",
            "Femenino     18.611987\n",
            "Name: proportion, dtype: float64\n",
            "\n",
            "------------------------------------------------------------\n",
            "\n",
            "Frecuencia para: Status\n",
            "Status\n",
            "Aprobado     184\n",
            "Deserto       65\n",
            "Reprobado     42\n",
            "Pendiente     26\n",
            "Name: count, dtype: int64\n",
            "Porcentaje:\n",
            "Status\n",
            "Aprobado     58.044164\n",
            "Deserto      20.504732\n",
            "Reprobado    13.249211\n",
            "Pendiente     8.201893\n",
            "Name: proportion, dtype: float64\n",
            "\n",
            "------------------------------------------------------------\n",
            "\n",
            "Frecuencia para: Nivel Ingresos\n",
            "Nivel Ingresos\n",
            "5.0    50\n",
            "4.0    45\n",
            "1.0    42\n",
            "7.0    41\n",
            "6.0    38\n",
            "8.0    38\n",
            "3.0    35\n",
            "2.0    28\n",
            "Name: count, dtype: int64\n",
            "Porcentaje:\n",
            "Nivel Ingresos\n",
            "5.0    15.772871\n",
            "4.0    14.195584\n",
            "1.0    13.249211\n",
            "7.0    12.933754\n",
            "6.0    11.987382\n",
            "8.0    11.987382\n",
            "3.0    11.041009\n",
            "2.0     8.832808\n",
            "Name: proportion, dtype: float64\n",
            "\n",
            "------------------------------------------------------------\n",
            "\n",
            "Frecuencia para: Zona Geo\n",
            "Zona Geo\n",
            "1.0    161\n",
            "2.0    156\n",
            "Name: count, dtype: int64\n",
            "Porcentaje:\n",
            "Zona Geo\n",
            "1.0    50.788644\n",
            "2.0    49.211356\n",
            "Name: proportion, dtype: float64\n",
            "\n",
            "------------------------------------------------------------\n",
            "\n",
            "Frecuencia para: Trabaja\n",
            "Trabaja\n",
            "Sí    257\n",
            "No     60\n",
            "Name: count, dtype: int64\n",
            "Porcentaje:\n",
            "Trabaja\n",
            "Sí    81.072555\n",
            "No    18.927445\n",
            "Name: proportion, dtype: float64\n",
            "\n",
            "------------------------------------------------------------\n",
            "\n",
            "Frecuencia para: Edad\n",
            "Edad\n",
            "1.0    58\n",
            "4.0    57\n",
            "6.0    55\n",
            "5.0    54\n",
            "3.0    49\n",
            "2.0    44\n",
            "Name: count, dtype: int64\n",
            "Porcentaje:\n",
            "Edad\n",
            "1.0    18.296530\n",
            "4.0    17.981073\n",
            "6.0    17.350158\n",
            "5.0    17.034700\n",
            "3.0    15.457413\n",
            "2.0    13.880126\n",
            "Name: proportion, dtype: float64\n",
            "\n",
            "------------------------------------------------------------\n",
            "\n",
            "Frecuencia para: Estado civil\n",
            "Estado civil\n",
            "Soltero/a       71\n",
            "Casado/a        67\n",
            "Amancebado      66\n",
            "Viudo/a         59\n",
            "Divorciado/a    54\n",
            "Name: count, dtype: int64\n",
            "Porcentaje:\n",
            "Estado civil\n",
            "Soltero/a       22.397476\n",
            "Casado/a        21.135647\n",
            "Amancebado      20.820189\n",
            "Viudo/a         18.611987\n",
            "Divorciado/a    17.034700\n",
            "Name: proportion, dtype: float64\n",
            "\n",
            "------------------------------------------------------------\n",
            "\n",
            "Frecuencia para: Region\n",
            "Region\n",
            "5.0    71\n",
            "2.0    63\n",
            "3.0    61\n",
            "1.0    61\n",
            "4.0    61\n",
            "Name: count, dtype: int64\n",
            "Porcentaje:\n",
            "Region\n",
            "5.0    22.397476\n",
            "2.0    19.873817\n",
            "3.0    19.242902\n",
            "1.0    19.242902\n",
            "4.0    19.242902\n",
            "Name: proportion, dtype: float64\n",
            "\n",
            "------------------------------------------------------------\n",
            "\n",
            "Frecuencia para: Imagen Marca\n",
            "Imagen Marca\n",
            "3.0    107\n",
            "1.0    106\n",
            "2.0    104\n",
            "Name: count, dtype: int64\n",
            "Porcentaje:\n",
            "Imagen Marca\n",
            "3.0    33.753943\n",
            "1.0    33.438486\n",
            "2.0    32.807571\n",
            "Name: proportion, dtype: float64\n",
            "\n",
            "------------------------------------------------------------\n",
            "\n",
            "Frecuencia para: Complejidad\n",
            "Complejidad\n",
            "2.0    86\n",
            "3.0    83\n",
            "4.0    75\n",
            "1.0    73\n",
            "Name: count, dtype: int64\n",
            "Porcentaje:\n",
            "Complejidad\n",
            "2.0    27.129338\n",
            "3.0    26.182965\n",
            "4.0    23.659306\n",
            "1.0    23.028391\n",
            "Name: proportion, dtype: float64\n",
            "\n",
            "------------------------------------------------------------\n",
            "\n",
            "Frecuencia para: Medelo educativo\n",
            "Medelo educativo\n",
            "1.0    170\n",
            "2.0    147\n",
            "Name: count, dtype: int64\n",
            "Porcentaje:\n",
            "Medelo educativo\n",
            "1.0    53.62776\n",
            "2.0    46.37224\n",
            "Name: proportion, dtype: float64\n",
            "\n",
            "------------------------------------------------------------\n",
            "\n",
            "Frecuencia para: AlfaCalif\n",
            "AlfaCalif\n",
            "A    95\n",
            "W    65\n",
            "B    47\n",
            "C    32\n",
            "F    31\n",
            "P    26\n",
            "D    21\n",
            "Name: count, dtype: int64\n",
            "Porcentaje:\n",
            "AlfaCalif\n",
            "A    29.968454\n",
            "W    20.504732\n",
            "B    14.826498\n",
            "C    10.094637\n",
            "F     9.779180\n",
            "P     8.201893\n",
            "D     6.624606\n",
            "Name: proportion, dtype: float64\n",
            "\n",
            "------------------------------------------------------------\n",
            "\n"
          ]
        }
      ],
      "source": [
        "categorical_cols = ['Genero', 'Status', 'Nivel Ingresos', 'Zona Geo', 'Trabaja', 'Edad',\n",
        "                    'Estado civil', 'Region', 'Imagen Marca', 'Complejidad', 'Medelo educativo', 'AlfaCalif']\n",
        "\n",
        "for col in categorical_cols:\n",
        "    print(f\"Frecuencia para: {col}\")\n",
        "    print(df[col].value_counts(dropna=False))\n",
        "    print(f\"Porcentaje:\")\n",
        "    print(df[col].value_counts(normalize=True, dropna=False) * 100)\n",
        "    print(\"\\n\" + \"-\"*60 + \"\\n\")\n"
      ]
    },
    {
      "cell_type": "markdown",
      "id": "fd99c604",
      "metadata": {
        "id": "fd99c604"
      },
      "source": [
        "## 3. Estadísticas descriptivas numéricas"
      ]
    },
    {
      "cell_type": "code",
      "execution_count": 4,
      "id": "d858321a",
      "metadata": {
        "colab": {
          "base_uri": "https://localhost:8080/"
        },
        "id": "d858321a",
        "outputId": "dc3c29ff-853f-4277-ed39-6d4aa9cebc69"
      },
      "outputs": [
        {
          "output_type": "stream",
          "name": "stdout",
          "text": [
            "       CalifFinal        Edad   Desempeño    scalagpa\n",
            "count  226.000000  317.000000  226.000000  226.000000\n",
            "mean    80.299095    3.536278   75.345133    3.681416\n",
            "std     18.493336    1.736460   12.414880    1.440774\n",
            "min     27.272727    1.000000   55.000000    1.000000\n",
            "25%     71.931818    2.000000   64.000000    3.000000\n",
            "50%     86.500000    4.000000   76.000000    4.000000\n",
            "75%     95.489130    5.000000   87.000000    5.000000\n",
            "max    100.190476    6.000000   95.000000    5.000000\n"
          ]
        }
      ],
      "source": [
        "numerical_cols = ['CalifFinal', 'Edad', 'Desempeño', 'scalagpa']\n",
        "print(df[numerical_cols].describe())\n"
      ]
    },
    {
      "cell_type": "markdown",
      "id": "18355b34",
      "metadata": {
        "id": "18355b34"
      },
      "source": [
        "## 4. Validación de Interpretaciones"
      ]
    },
    {
      "cell_type": "code",
      "execution_count": 5,
      "id": "4c91b812",
      "metadata": {
        "colab": {
          "base_uri": "https://localhost:8080/"
        },
        "id": "4c91b812",
        "outputId": "b642b1d3-a06d-4ba0-e7be-458f2bc32c67"
      },
      "outputs": [
        {
          "output_type": "stream",
          "name": "stdout",
          "text": [
            "Opción correcta validada:\n",
            "- Pareja (con pareja + casado/a): ≈ 21.13564668769716\n",
            "- Casado/a: 21.13564668769716\n",
            "- Aprobado: 58.0441640378549\n",
            "- Desempleado: 18.92744479495268\n",
            "\n",
            " Rechazo de otras opciones:\n",
            "- Femenino: 18.61198738170347\n",
            "- Casadas femeninas: 20.33898305084746\n",
            "- A+ en mujeres: 0.0\n",
            "- Menores de 40 años: 65.61514195583597\n",
            "- A o A+ general: 29.96845425867508\n"
          ]
        }
      ],
      "source": [
        "# Calcular datos específicos\n",
        "estado_civil = df['Estado civil'].value_counts(normalize=True) * 100\n",
        "status = df['Status'].value_counts(normalize=True) * 100\n",
        "trabaja = df['Trabaja'].value_counts(normalize=True) * 100\n",
        "genero = df['Genero'].value_counts(normalize=True) * 100\n",
        "\n",
        "# Filtrar mujeres\n",
        "mujeres = df[df['Genero'] == 'Femenino']\n",
        "casadas_mujeres = mujeres['Estado civil'].value_counts(normalize=True) * 100\n",
        "a_plus_fem = mujeres[mujeres['AlfaCalif'] == 'A+'].shape[0]\n",
        "total_fem = mujeres.shape[0]\n",
        "\n",
        "# AlfaCalif general\n",
        "sobresalientes = df[df['AlfaCalif'].isin(['A+', 'A'])].shape[0]\n",
        "porc_sobresalientes = sobresalientes / df.shape[0] * 100\n",
        "\n",
        "# Edad menores 40 (edad ordinal mapeada: 1 a 4)\n",
        "menores_40 = df[df['Edad'].isin([1, 2, 3, 4])].shape[0] / df.shape[0] * 100\n",
        "\n",
        "print(\"Opción correcta validada:\")\n",
        "print(\"- Pareja (con pareja + casado/a): ≈\", estado_civil.get('Con pareja', 0) + estado_civil.get('Casado/a', 0))\n",
        "print(\"- Casado/a:\", estado_civil.get('Casado/a', 0))\n",
        "print(\"- Aprobado:\", status.get('Aprobado', 0))\n",
        "print(\"- Desempleado:\", trabaja.get('No', 0))\n",
        "\n",
        "print(\"\\n Rechazo de otras opciones:\")\n",
        "print(\"- Femenino:\", genero.get('Femenino', 0))\n",
        "print(\"- Casadas femeninas:\", casadas_mujeres.get('Casado/a', 0))\n",
        "print(\"- A+ en mujeres:\", (a_plus_fem / total_fem * 100) if total_fem > 0 else 0)\n",
        "print(\"- Menores de 40 años:\", menores_40)\n",
        "print(\"- A o A+ general:\", porc_sobresalientes)\n"
      ]
    }
  ],
  "metadata": {
    "colab": {
      "provenance": [],
      "include_colab_link": true
    },
    "language_info": {
      "name": "python"
    },
    "kernelspec": {
      "name": "python3",
      "display_name": "Python 3"
    }
  },
  "nbformat": 4,
  "nbformat_minor": 5
}